{
 "cells": [
  {
   "cell_type": "code",
   "execution_count": 1,
   "metadata": {},
   "outputs": [],
   "source": [
    "import pandas as pd"
   ]
  },
  {
   "cell_type": "code",
   "execution_count": 3,
   "metadata": {
    "scrolled": false
   },
   "outputs": [
    {
     "name": "stdout",
     "output_type": "stream",
     "text": [
      "--------------------------------------------------------------------------------------------------------\n",
      "                                                  MENU                                                  \n",
      "--------------------------------------------------------------------------------------------------------\n",
      "1-Categorias\n",
      "2-Reservas\n",
      "3-Registro dos alunos\n",
      "4-Entregas\n",
      "5-Cadastrar livro\n",
      "6-Sair\n",
      "--------------------------------------------------------------------------------------------------------\n",
      "Opção:3\n",
      "Aparece o registro dos alunos\n"
     ]
    }
   ],
   "source": [
    "def linha(tam=104):\n",
    "    return '-'*tam\n",
    "\n",
    "def cabeçalho (txt):\n",
    "    print (linha())\n",
    "    print (txt.center(104))\n",
    "    print (linha())\n",
    "\n",
    "    \n",
    "def menu(lista):\n",
    "    cabeçalho('MENU')\n",
    "    c=1\n",
    "    for item in lista:\n",
    "        print(f'{c}-{item}')\n",
    "        c +=1\n",
    "    print (linha())\n",
    "    \n",
    "    \n",
    "#resultado\n",
    "menu (['Categorias', 'Reservas', 'Registro dos alunos', 'Entregas','Cadastrar livro', 'Sair'])\n",
    "\n",
    "\n",
    "opcao = int(input(\"Opção:\"))\n",
    "\n",
    "if opcao ==  1:\n",
    "    #ver aqui :/\n",
    "    def categorias(lista):\n",
    "        cabeçalho('CATEGORIAS')\n",
    "        c=1\n",
    "        for item in lista:\n",
    "            print(f'{c}-{item}')\n",
    "            c +=1\n",
    "        print (linha())\n",
    "    categorias (['Matemática', 'Física', 'Filosofia', 'Suspense', 'Romance'])\n",
    "    categoria = int(input(\"Qual é a categoria desejada?\"))\n",
    "    \n",
    "    if categoria == 1:\n",
    "        matematica_df = pd.read_excel (\"S_Categoria/livrosMatematica.xlsx\")\n",
    "        x = input(\"Nome do livro:\")\n",
    "        #O resultado da busca tem que está dentro do display para mostrar\n",
    "        display (matematica_df[matematica_df[\"Título\"].str.contains(pat=x,case=False)] )        \n",
    "        #z = input(\"Nome do livro:\") \n",
    "        #matematica_df[matematica_df[\"Título\"].str.contains(pat=z,case=False)]      ESSA PARTE NAO PEGA :/ \n",
    "        \n",
    "    elif categoria == 2:\n",
    "        fisica_df = pd.read_excel (\"S_Categoria/livrosFisica.xlsx\")\n",
    "        display (fisica_df)\n",
    "        \n",
    "    elif categoria == 3:\n",
    "        filosofAutoria_df = pd.read_excel (\"S_Categoria/livrosFilosofia.xlsx\")\n",
    "        display (filosofia_df)\n",
    "    elif categoria == 4:\n",
    "        suspense_df = pd.read_excel (\"S_Categoria/livrosSuspense.xlsx\")\n",
    "        display (suspense_df)\n",
    "    elif categoria == 5:\n",
    "        romance_df = pd.read_excel (\"S_Categoria/livrosRomance.xlsx\")\n",
    "        display (romance_df)\n",
    "        #Observar: Modificação identação\n",
    "        input(\"Digite o nome do livro:\")\n",
    "    \n",
    "    \n",
    "    \n",
    "elif opcao == 2:\n",
    "    print(\"Aparece as reservas\")\n",
    "    #opcao 1=visualizar reservas \n",
    "    #opcao 2= fazer reserva\n",
    "    \n",
    "elif opcao == 3:\n",
    "    print(\"Aparece o registro dos alunos\")\n",
    "    \n",
    "elif opcao == 4:\n",
    "    print(\"Aparece as entregas\")\n",
    "\n",
    "elif opcao == 5: #opcao para fazer a adicao de livros novos nas tabelas de cada categoria\n",
    "    def categorias(lista):\n",
    "        cabeçalho('CATEGORIAS')\n",
    "        c=1\n",
    "        for item in lista:\n",
    "            print(f'{c}-{item}')\n",
    "            c +=1\n",
    "        print (linha())\n",
    "    categorias (['Matemática', 'Física', 'Filosofia', 'Suspense', 'Romance'])\n",
    "    categoria = int(input(\"Qual é a categoria desejada?\"))\n",
    "    if categoria == 1:\n",
    "        matematica_df = pd.read_excel (\"S_Categoria/livrosMatematica.xlsx\")\n",
    "        titulo = input('titulo:')\n",
    "        autor = input('autor: ')\n",
    "        Idioma = input('Idioma')\n",
    "        Qtd = int(input('Quantidade:'))\n",
    "    #modifiquei\n",
    "        matematica_df.loc[len(matematica_df)] = [titulo , autor,\"Matemática\", Idioma, Qtd]\n",
    "        display(matematica_df)\n",
    "        \n",
    "    elif categoria == 4:\n",
    "        suspense_df = pd.read_excel (\"S_Categoria/livrosSuspense.xlsx\")\n",
    "        titulo = input('titulo:')\n",
    "        autor = input('autor: ')\n",
    "        Idioma = input('Idioma')\n",
    "        Qtd = int(input('Quantidade:'))\n",
    "    \n",
    "        suspense_df.loc[len(suspense_df)] = [titulo , autor,\"Suspense\", Idioma, Qtd]\n",
    "        #adiciona no arquivo\n",
    "        suspense_df.to_excel('S_Categoria/livrosSuspense.xlsx', encoding='utf',index=False)\n",
    "        #so mostra\n",
    "        display(suspense_df)\n",
    "\n",
    "    #ate aqui    \n",
    "elif opcao == 6:\n",
    "    print(\"Volta para a tela de login\")\n",
    "    \n",
    "else:\n",
    "    print(\"Resultado inválido\")\n",
    "    "
   ]
  },
  {
   "cell_type": "code",
   "execution_count": null,
   "metadata": {},
   "outputs": [],
   "source": [
    "index = int(input(\"index:\"))\n",
    "y = int(input(\"Quantidade de livros pegos:\"))\n",
    "matematica_df.iat [index,4] = matematica_df.iat[index,4]-[y]  #PARA RETIRAR OU COLOCAR A QUANTIDADE--- ENTREGA: SOMA----REGISTRO ALUNO:SUBTRAI\n",
    "matematica_df"
   ]
  },
  {
   "cell_type": "code",
   "execution_count": null,
   "metadata": {},
   "outputs": [],
   "source": [
    "x = input(\"Nome do livro:\")\n",
    "matematica_df[matematica_df[\"Título\"].str.contains(pat=x,case=False)] #buscador, ele funciona com letras maiusculas, minusculas e partes de uma palavra, mas é necessário colocar os acentos  "
   ]
  },
  {
   "cell_type": "code",
   "execution_count": null,
   "metadata": {},
   "outputs": [],
   "source": [
    "index = int(input(\"index:\"))\n",
    "y = int(input(\"Quantidade de livros pegos:\"))\n",
    "matematica_df.iat [index,4] = matematica_df.iat[index,4]-[y]  #PARA RETIRAR OU COLOCAR A QUANTIDADE--- ENTREGA: SOMA----REGISTRO ALUNO:SUBTRAI\n",
    "matematica_df"
   ]
  },
  {
   "cell_type": "code",
   "execution_count": null,
   "metadata": {},
   "outputs": [],
   "source": []
  },
  {
   "cell_type": "code",
   "execution_count": null,
   "metadata": {},
   "outputs": [],
   "source": []
  }
 ],
 "metadata": {
  "kernelspec": {
   "display_name": "Python 3",
   "language": "python",
   "name": "python3"
  },
  "language_info": {
   "codemirror_mode": {
    "name": "ipython",
    "version": 3
   },
   "file_extension": ".py",
   "mimetype": "text/x-python",
   "name": "python",
   "nbconvert_exporter": "python",
   "pygments_lexer": "ipython3",
   "version": "3.8.5"
  }
 },
 "nbformat": 4,
 "nbformat_minor": 5
}
