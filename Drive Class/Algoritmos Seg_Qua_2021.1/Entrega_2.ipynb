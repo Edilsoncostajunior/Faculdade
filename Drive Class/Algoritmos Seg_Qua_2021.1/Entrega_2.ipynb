{
 "cells": [
  {
   "cell_type": "markdown",
   "source": [
    "Aluno (a): Joyce Lima Avelino\n",
    "Aluno (a): Edilson do Nascimento Costa Júnior"
   ],
   "metadata": {}
  },
  {
   "cell_type": "markdown",
   "source": [
    "Instruções:\n",
    "\n",
    "Códigos que apresentarem erros de compilação ou execução não serão considerados\n",
    "\n",
    "CUIDADO COM O PLÁGIO DOS CÓDIGOS\n",
    "\n",
    "Verifiquem o correto uso dos tipos das variáveis (int, float..)\n",
    "\n",
    "Cuidado com os nomes das variáveis, as mesmas devem ter nomes significativos"
   ],
   "metadata": {}
  },
  {
   "cell_type": "markdown",
   "source": [
    "1.(4.0) A série de FETUCCINE é gerada da seguinte forma: os dois primeiros termos são fornecidos pelo usuário; a partir daí, os termos são gerados com a soma ou subtração dos dois termos anteriores. Faça uma função em Python que imprima os N primeiros termos da série de FETUCCINE, sabendo-se que para existir esta série serão necessários pelo menos três termos.\n",
    "\n",
    "OBS: para realização dos testes criar uma função fetuccine(termo1,termo2,n)"
   ],
   "metadata": {}
  },
  {
   "cell_type": "code",
   "execution_count": 1,
   "source": [
    "def fetuccine(termo1,termo2,n):\r\n",
    "    \r\n",
    "    if n <3:\r\n",
    "        n = print(\"São necessários pelo menos 3 termos.\")\r\n",
    "    else:\r\n",
    "        lista= []\r\n",
    "        t1 = termo1\r\n",
    "        t2 = termo2\r\n",
    "        lista.append (t1)\r\n",
    "        lista.append (t2)\r\n",
    "        \r\n",
    "        for i in range(3,n+1):\r\n",
    "            if i % 2 == 0:\r\n",
    "                valorTermo = termo2 - termo1\r\n",
    "                lista.append(valorTermo)\r\n",
    "\r\n",
    "            if i % 2 != 0:\r\n",
    "                valorTermo = termo2 + termo1 \r\n",
    "                lista.append(valorTermo)\r\n",
    "            termo1 = termo2\r\n",
    "            termo2 = valorTermo\r\n",
    "    \r\n",
    "        return lista\r\n"
   ],
   "outputs": [],
   "metadata": {}
  },
  {
   "cell_type": "markdown",
   "source": [
    "2.(6.0) Faça uma função em Python para solucionar o seguinte problema: dadas 2 listas com n números entre 0 e 9, interpretadas como dois números inteiros de n dígitos, calcular uma lista que representa o somatório dos dois números. \n",
    "\n",
    "Exemplos:\n",
    "\n",
    "\n",
    "Primeira lista: [1 , 2,  3, 4]\n",
    "Segunda lista:  [9,  9,  0, 0]\n",
    "                ----------------                              \n",
    "Somatória:      [1, 1, 1, 3, 4]\n",
    "\t\n",
    "\n",
    "\n",
    "Primeira lista:    [ 2,  3, 4]\n",
    "Segunda lista:  [9,  9,  0, 0]\n",
    "                ----------------\n",
    "Somatória:      [1, 0, 1, 3, 4]\n",
    "\n",
    "\n",
    "OBS: para realização dos testes criar uma função somaElementosLista(lista1,lista2)\n"
   ],
   "metadata": {}
  },
  {
   "cell_type": "code",
   "execution_count": 2,
   "source": [
    "def somaElementosLista(lista1,lista2):\r\n",
    "    lista_soma = []\r\n",
    "    menor = None\r\n",
    "    maior = None\r\n",
    "    copialista1 = lista1.copy ()\r\n",
    "    copialista2 = lista2.copy ()\r\n",
    "\r\n",
    "    def soma():\r\n",
    "        posicao = len(copialista1) - 1\r\n",
    "        for i in range(len(copialista1)):\r\n",
    "            soma = copialista1[posicao] + copialista2[posicao]\r\n",
    "            if soma > 9:\r\n",
    "                soma -= 10\r\n",
    "                copialista1[posicao-1] += 1\r\n",
    "\r\n",
    "            lista_soma.append(soma)\r\n",
    "            posicao -= 1\r\n",
    "        if copialista1[0] + copialista2[0] > 9:\r\n",
    "            lista_soma.append(1)\r\n",
    "\r\n",
    "    if len(copialista1) > len(copialista2):\r\n",
    "        menor = copialista2\r\n",
    "        maior = copialista1\r\n",
    "    else:\r\n",
    "        menor = copialista1\r\n",
    "        maior = copialista2\r\n",
    "\r\n",
    "    if copialista1 ==[] and copialista2 == []:\r\n",
    "        return 'Não é possível realizar soma, por favor insira valores nas listas.'\r\n",
    "    elif len(copialista1) == len(copialista2):\r\n",
    "        soma()\r\n",
    "    else:\r\n",
    "        diferenca = len(maior) - len(menor)\r\n",
    "        menor.reverse()\r\n",
    "        for i in range(diferenca):\r\n",
    "            menor.append(0)\r\n",
    "        menor.reverse()\r\n",
    "        soma()\r\n",
    "        \r\n",
    "    lista_soma.reverse()\r\n",
    "    print (\"Primeira lista:\" + str(lista1).rjust (20)) \r\n",
    "    print (\"Segunda lista:\" + str(lista2).rjust (21))\r\n",
    "    print('+'+('-'*35).rjust(10))\r\n",
    "    return(\"Somatória:\" + str(lista_soma).rjust (25))\r\n"
   ],
   "outputs": [],
   "metadata": {}
  }
 ],
 "metadata": {
  "kernelspec": {
   "name": "python3",
   "display_name": "Python 3.9.7 64-bit"
  },
  "language_info": {
   "codemirror_mode": {
    "name": "ipython",
    "version": 3
   },
   "file_extension": ".py",
   "mimetype": "text/x-python",
   "name": "python",
   "nbconvert_exporter": "python",
   "pygments_lexer": "ipython3",
   "version": "3.9.7"
  },
  "interpreter": {
   "hash": "bb2bfbfa7c478a998572b9b916c6bb459ff36e002612eb25c322b777fb4ddfe2"
  }
 },
 "nbformat": 4,
 "nbformat_minor": 5
}