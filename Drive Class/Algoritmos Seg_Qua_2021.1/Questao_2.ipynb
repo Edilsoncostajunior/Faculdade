{
 "cells": [
  {
   "cell_type": "code",
   "execution_count": 3,
   "id": "7766fd64",
   "metadata": {},
   "outputs": [],
   "source": [
    "def somaElementosLista(lista1,lista2):\n",
    "    lista_soma = []\n",
    "    copialista1 = lista1.copy ()\n",
    "    copialista2 = lista2.copy ()\n",
    "\n",
    "    def soma():\n",
    "        posicao = len(copialista1) - 1\n",
    "        for i in range(len(copialista1)):\n",
    "            soma = copialista1[posicao] + copialista2[posicao]\n",
    "            if soma > 9:\n",
    "                soma -= 10\n",
    "                copialista1[posicao-1] += 1\n",
    "\n",
    "            lista_soma.append(soma)\n",
    "            posicao -= 1\n",
    "        if copialista1[0] + copialista2[0] > 9:\n",
    "            lista_soma.append(1)\n",
    "\n",
    "    if len(copialista1) > len(copialista2):\n",
    "        diferenca = len(copialista1) - len(copialista2)\n",
    "        copialista2.reverse()\n",
    "        for i in range(diferenca):\n",
    "            copialista2.append(0)\n",
    "        copialista2.reverse()\n",
    "        soma()\n",
    "    elif len(copialista1) < len(copialista2):\n",
    "        diferenca = len(copialista2) - len(copialista1)\n",
    "        copialista1.reverse()\n",
    "        for i in range(diferenca):\n",
    "            copialista1.append(0)\n",
    "        copialista1.reverse()\n",
    "        soma()\n",
    "        \n",
    "    if copialista1 ==[] and copialista2 == []:\n",
    "        return 'Não é possível realizar soma, por favor insira valores nas listas.'\n",
    "    \n",
    "    elif len(copialista1) == len(copialista2):\n",
    "        soma()\n",
    "        \n",
    "    lista_soma.reverse()\n",
    "    print (\"Primeira lista:\" + str(lista1).rjust (20)) \n",
    "    print (\"Segunda lista:\" + str(lista2).rjust (21))\n",
    "    print ('+'+('-'*35).rjust(10))\n",
    "    return(\"Somatória:\" + str(lista_soma).rjust (25))\n",
    "\n"
   ]
  },
  {
   "cell_type": "code",
   "execution_count": null,
   "id": "0741bd3d",
   "metadata": {},
   "outputs": [],
   "source": [
    "print(somaElementosLista([5,6,3],[1,2,3,3]))\n"
   ]
  }
 ],
 "metadata": {
  "kernelspec": {
   "display_name": "Python 3",
   "language": "python",
   "name": "python3"
  },
  "language_info": {
   "codemirror_mode": {
    "name": "ipython",
    "version": 3
   },
   "file_extension": ".py",
   "mimetype": "text/x-python",
   "name": "python",
   "nbconvert_exporter": "python",
   "pygments_lexer": "ipython3",
   "version": "3.8.8"
  }
 },
 "nbformat": 4,
 "nbformat_minor": 5
}
