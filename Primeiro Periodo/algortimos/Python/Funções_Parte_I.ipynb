{
 "cells": [
  {
   "cell_type": "markdown",
   "metadata": {},
   "source": [
    "1.\tLeia uma matriz 4 x 4, conte e escreva quantos valores maiores que 10 ela possui. \n",
    "\n",
    "2.\tDeclare uma matriz 5 x 5. Preencha com 1 a diagonal principal e com 0 os demais elementos. Escreva ao ﬁnal a matriz obtida.7\n",
    "\n",
    "3.\tLeia uma matriz 4 x 4, imprima a matriz e retorne a localização (linha e a coluna) do maior valor. "
   ]
  },
  {
   "cell_type": "markdown",
   "metadata": {},
   "source": [
    "Funções Prontas:\n",
    "\n",
    "- len\n",
    "- range\n",
    "- sum \n",
    "\n",
    "Definindo suas próprias funções:\n",
    "\n",
    "def nome_da_função(argumento1,argumento2,...):\n",
    "    corpo da função\n",
    "\n",
    "\n"
   ]
  },
  {
   "cell_type": "code",
   "execution_count": 1,
   "metadata": {},
   "outputs": [],
   "source": [
    "# Definido uma função\n",
    "\n",
    "def helloWorld():\n",
    "    print(\"Hello World\")"
   ]
  },
  {
   "cell_type": "code",
   "execution_count": 2,
   "metadata": {},
   "outputs": [
    {
     "name": "stdout",
     "output_type": "stream",
     "text": [
      "Hello World\n"
     ]
    }
   ],
   "source": [
    "# Definido uma função\n",
    "\n",
    "def helloWorld():\n",
    "    print(\"Hello World\")\n",
    "\n",
    "\n",
    "# Chamada de uma função    \n",
    "helloWorld()"
   ]
  },
  {
   "cell_type": "code",
   "execution_count": 3,
   "metadata": {},
   "outputs": [
    {
     "name": "stdout",
     "output_type": "stream",
     "text": [
      "5\n",
      "10\n"
     ]
    }
   ],
   "source": [
    "# Definido uma função\n",
    "\n",
    "def soma(num1,num2):\n",
    "    print(num1 + num2)\n",
    "\n",
    "\n",
    "# Chamada de uma função  \n",
    "soma(2,3)\n",
    "soma(7,3)"
   ]
  },
  {
   "cell_type": "code",
   "execution_count": 9,
   "metadata": {},
   "outputs": [
    {
     "name": "stdout",
     "output_type": "stream",
     "text": [
      "n1: 2\n",
      "n2: 3\n",
      "5\n"
     ]
    }
   ],
   "source": [
    "\n",
    "# Definido uma função\n",
    "\n",
    "def soma(num1,num2):\n",
    "    print(num1 + num2)\n",
    "\n",
    "\n",
    "n1 = int(input(\"n1: \"))\n",
    "n2 = int(input(\"n2: \"))\n",
    "\n",
    "soma(n1,n2)\n"
   ]
  },
  {
   "cell_type": "code",
   "execution_count": 10,
   "metadata": {},
   "outputs": [
    {
     "name": "stdout",
     "output_type": "stream",
     "text": [
      "n1: 1\n",
      "n2: 2\n",
      "3\n",
      "3\n",
      "7\n"
     ]
    },
    {
     "ename": "TypeError",
     "evalue": "unsupported operand type(s) for +: 'NoneType' and 'NoneType'",
     "output_type": "error",
     "traceback": [
      "\u001b[1;31m---------------------------------------------------------------------------\u001b[0m",
      "\u001b[1;31mTypeError\u001b[0m                                 Traceback (most recent call last)",
      "\u001b[1;32m<ipython-input-10-482587479800>\u001b[0m in \u001b[0;36m<module>\u001b[1;34m\u001b[0m\n\u001b[0;32m     10\u001b[0m \u001b[0msoma\u001b[0m\u001b[1;33m(\u001b[0m\u001b[0mn1\u001b[0m\u001b[1;33m,\u001b[0m\u001b[0mn2\u001b[0m\u001b[1;33m)\u001b[0m\u001b[1;33m\u001b[0m\u001b[1;33m\u001b[0m\u001b[0m\n\u001b[0;32m     11\u001b[0m \u001b[1;33m\u001b[0m\u001b[0m\n\u001b[1;32m---> 12\u001b[1;33m \u001b[0mprint\u001b[0m\u001b[1;33m(\u001b[0m\u001b[0msoma\u001b[0m\u001b[1;33m(\u001b[0m\u001b[1;36m1\u001b[0m\u001b[1;33m,\u001b[0m\u001b[1;36m2\u001b[0m\u001b[1;33m)\u001b[0m \u001b[1;33m+\u001b[0m \u001b[0msoma\u001b[0m\u001b[1;33m(\u001b[0m\u001b[1;36m3\u001b[0m\u001b[1;33m,\u001b[0m\u001b[1;36m4\u001b[0m\u001b[1;33m)\u001b[0m\u001b[1;33m)\u001b[0m\u001b[1;33m\u001b[0m\u001b[1;33m\u001b[0m\u001b[0m\n\u001b[0m",
      "\u001b[1;31mTypeError\u001b[0m: unsupported operand type(s) for +: 'NoneType' and 'NoneType'"
     ]
    }
   ],
   "source": [
    "# Definido uma função\n",
    "\n",
    "def soma(num1,num2):\n",
    "    print(num1 + num2)\n",
    "\n",
    "\n",
    "n1 = int(input(\"n1: \"))\n",
    "n2 = int(input(\"n2: \"))\n",
    "\n",
    "soma(n1,n2)\n",
    "\n",
    "print(soma(1,2) + soma(3,4))"
   ]
  },
  {
   "cell_type": "code",
   "execution_count": 7,
   "metadata": {},
   "outputs": [
    {
     "name": "stdout",
     "output_type": "stream",
     "text": [
      "1\n",
      "2\n",
      "3\n",
      "4\n",
      "10\n"
     ]
    }
   ],
   "source": [
    "def soma(num1,num2):\n",
    "    return num1 + num2\n",
    "\n",
    "\n",
    "#######################################   \n",
    "\n",
    "n1 = int(input())\n",
    "n2 = int(input())\n",
    "n3 = int(input())\n",
    "n4 = int(input())\n",
    "\n",
    "resultado = soma(n1,n2) + soma(n3,n4)\n",
    "print(resultado)"
   ]
  },
  {
   "cell_type": "code",
   "execution_count": 13,
   "metadata": {},
   "outputs": [
    {
     "name": "stdout",
     "output_type": "stream",
     "text": [
      "0\n",
      "Neutro\n"
     ]
    }
   ],
   "source": [
    "# Função para verificar se um número é par ou ímpar\n",
    "\n",
    "def classificacaoNum(num):\n",
    "    if num == 0:\n",
    "        return \"Neutro\"\n",
    "    elif num % 2 == 0:\n",
    "        return \"par\" \n",
    "    return \"impar\"\n",
    "\n",
    "##############################################    \n",
    "\n",
    "num = int(input())\n",
    "while num < 0:\n",
    "    num = int(input())\n",
    "print(classificacaoNum(num))"
   ]
  },
  {
   "cell_type": "code",
   "execution_count": 14,
   "metadata": {},
   "outputs": [
    {
     "data": {
      "text/plain": [
       "60000"
      ]
     },
     "execution_count": 14,
     "metadata": {},
     "output_type": "execute_result"
    }
   ],
   "source": [
    "def maiorLista(lista):\n",
    "    if lista == []:\n",
    "        return \"Lista Vazia\"\n",
    "    else:\n",
    "        maior = lista[0]\n",
    "        for i in range(len(lista)):\n",
    "            if lista[i] > maior:\n",
    "                maior = lista[i]\n",
    "        return maior\n",
    "    \n",
    "###############################################3\n",
    "\n",
    "l = [3,-8,5,800,6]\n",
    "maiorLista(l)\n",
    "\n",
    "l = [3,-8,5,800,60000]\n",
    "maiorLista(l)"
   ]
  },
  {
   "cell_type": "code",
   "execution_count": 15,
   "metadata": {},
   "outputs": [
    {
     "name": "stdout",
     "output_type": "stream",
     "text": [
      "[3, 2, 0, 4]\n"
     ]
    }
   ],
   "source": [
    "def intersecao(l1,l2):\n",
    "    l3 = []\n",
    "\n",
    "    for i in range(len(l1)):\n",
    "        if (l1[i] in l2) and  (l1[i] not in l3):\n",
    "            l3.append(l1[i])\n",
    "    return l3    \n",
    "\n",
    "\n",
    "l1 = [3, 3, 2, 1, 0, -5,4]\n",
    "l2 = [4, 345, 0, -4, 2, 56,3]\n",
    "\n",
    "print(intersecao(l1,l2))"
   ]
  },
  {
   "cell_type": "code",
   "execution_count": 17,
   "metadata": {},
   "outputs": [
    {
     "name": "stdout",
     "output_type": "stream",
     "text": [
      "[3, 2, 1, 0, -5, 4, 345, -4, 56]\n",
      "[]\n"
     ]
    }
   ],
   "source": [
    "def uniao(l1,l2):\n",
    "    l3 = []\n",
    "\n",
    "    for i in range(len(l1)):\n",
    "        if l1[i] not in l3:\n",
    "            l3.append(l1[i])\n",
    "    \n",
    "    for i in range(len(l2)):\n",
    "        if l2[i] not in l3:\n",
    "            l3.append(l2[i])\n",
    "    \n",
    "    return l3    \n",
    "\n",
    "\n",
    "l1 = [3, 2, 1, 0, -5,4,3]\n",
    "l2 = [4, 345, 0, -4, 2, 56,3]\n",
    "\n",
    "print(uniao(l1,l2))\n",
    "print(uniao([],[]))"
   ]
  },
  {
   "cell_type": "code",
   "execution_count": 18,
   "metadata": {},
   "outputs": [
    {
     "name": "stdout",
     "output_type": "stream",
     "text": [
      "A soma dos elementos da diagonal principal é:  7\n"
     ]
    }
   ],
   "source": [
    "matriz = [[1,2,2],[2,5,6],[1,1,1]]\n",
    "\n",
    "def somaElementosDiagonalMatriz(matriz):\n",
    "    soma = 0\n",
    "    for i in range(len(matriz)):\n",
    "        for j in range(len(matriz[0])):\n",
    "            if i == j:\n",
    "                soma += matriz[i][j]\n",
    "    return soma\n",
    "\n",
    "print(\"A soma dos elementos da diagonal principal é: \", somaElementosDiagonalMatriz(matriz))"
   ]
  },
  {
   "cell_type": "code",
   "execution_count": 19,
   "metadata": {},
   "outputs": [
    {
     "name": "stdout",
     "output_type": "stream",
     "text": [
      "True\n",
      "False\n"
     ]
    }
   ],
   "source": [
    "def ehTriangular(numero):\n",
    "    num = 1\n",
    "    \n",
    "    while num * (num + 1) * (num + 2) <= numero:\n",
    "        if num * (num + 1) * (num + 2) == numero:\n",
    "            return True\n",
    "        num += 1\n",
    "    return False\n",
    "\n",
    "print(ehTriangular(24))\n",
    "print(ehTriangular(25))"
   ]
  },
  {
   "cell_type": "code",
   "execution_count": null,
   "metadata": {},
   "outputs": [],
   "source": [
    "def matrizValida(matriz):\n",
    "    if len(matriz) == 0 or len(matriz) != len(matriz[0]):\n",
    "        return False\n",
    "    return True"
   ]
  },
  {
   "cell_type": "code",
   "execution_count": 20,
   "metadata": {},
   "outputs": [
    {
     "name": "stdout",
     "output_type": "stream",
     "text": [
      "Não é possível realizar a operação\n",
      "Não é possível realizar a operação\n",
      "7\n"
     ]
    }
   ],
   "source": [
    "def matrizValida(matriz):\n",
    "    if len(matriz) == 0 or len(matriz) != len(matriz[0]):\n",
    "        return False\n",
    "    return True\n",
    "\n",
    "\n",
    "def somaElementosDiagonalMatriz(matriz):\n",
    "    if not matrizValida(matriz):\n",
    "        return \"Não é possível realizar a operação\"\n",
    "    else:     \n",
    "        soma = 0\n",
    "        for i in range(len(matriz)):\n",
    "            for j in range(len(matriz[0])):\n",
    "                if i == j:\n",
    "                    soma += matriz[i][j]\n",
    "        return soma\n",
    "\n",
    "matrizA = []    \n",
    "print(somaElementosDiagonalMatriz(matrizA))\n",
    "\n",
    "matrizB = [[1,2,2],[2,5,6]]\n",
    "print(somaElementosDiagonalMatriz(matrizB))\n",
    "\n",
    "matrizC = [[1,2,2],[2,5,6],[1,1,1]]\n",
    "print(somaElementosDiagonalMatriz(matrizC))"
   ]
  },
  {
   "cell_type": "code",
   "execution_count": 21,
   "metadata": {},
   "outputs": [
    {
     "name": "stdout",
     "output_type": "stream",
     "text": [
      "5.0\n"
     ]
    }
   ],
   "source": [
    "def mediaElementosLista(lista):\n",
    "    if lista == []:\n",
    "        return 0\n",
    "    else:\n",
    "        return sum(lista)/len(lista)\n",
    "\n",
    "l = [3,4,5,6,7]\n",
    "print(mediaElementosLista(l))"
   ]
  },
  {
   "cell_type": "code",
   "execution_count": 17,
   "metadata": {},
   "outputs": [
    {
     "data": {
      "text/plain": [
       "[2, 4, 6, 8, 10, 12]"
      ]
     },
     "execution_count": 17,
     "metadata": {},
     "output_type": "execute_result"
    }
   ],
   "source": [
    "def calculaPA(a1,razao,nTermos):\n",
    "    l = []\n",
    "    an = a1\n",
    "    for i in range(nTermos):\n",
    "        l.append(an)\n",
    "        an+= razao\n",
    "    return l\n",
    "\n",
    "calculaPA(2,2,6)"
   ]
  },
  {
   "cell_type": "code",
   "execution_count": 15,
   "metadata": {},
   "outputs": [
    {
     "name": "stdout",
     "output_type": "stream",
     "text": [
      "5\n",
      "120\n"
     ]
    }
   ],
   "source": [
    "# 0! = 1\n",
    "# 1! = 1\n",
    "# 5! = 5 * 4 * 3 * 2 * 1\n",
    "\n",
    "def fatorial(num):\n",
    "    fatorial = 1\n",
    "    for i in range(num,0,-1):\n",
    "        fatorial *= i\n",
    "        \n",
    "    return fatorial\n",
    "\n",
    "    \n",
    "num = int(input())\n",
    "while num < 0:\n",
    "    num = int(input())\n",
    "    \n",
    "print(fatorial(num))"
   ]
  },
  {
   "attachments": {
    "Sem%20t%C3%ADtulo.jpg": {
     "image/jpeg": "[encoded data removed]"
    }
   },
   "cell_type": "markdown",
   "metadata": {},
   "source": [
    "![Sem%20t%C3%ADtulo.jpg](attachment:Sem%20t%C3%ADtulo.jpg)"
   ]
  },
  {
   "cell_type": "code",
   "execution_count": 13,
   "metadata": {},
   "outputs": [
    {
     "name": "stdout",
     "output_type": "stream",
     "text": [
      "Erro\n",
      "Erro\n",
      "0.3678791887125221\n",
      "2.0\n",
      "2.71828182845823\n"
     ]
    }
   ],
   "source": [
    "def e_x(x,n):\n",
    "    if n <= 0 :\n",
    "        return (\"Erro\")\n",
    "    else:\n",
    "        somaTermos_e_x = 0\n",
    "        for i in range(n):\n",
    "            somaTermos_e_x += (x**i)/fatorial(i) \n",
    "        return somaTermos_e_x\n",
    "    \n",
    "print(e_x(1,-1))  \n",
    "print(e_x(1,0))   \n",
    "print(e_x(-1,10))\n",
    "print(e_x(1,2))\n",
    "print(e_x(1,15))\n"
   ]
  },
  {
   "cell_type": "code",
   "execution_count": null,
   "metadata": {},
   "outputs": [],
   "source": [
    "#Agenda telefônica\n",
    "\n",
    "\n",
    "    print(\"1. Mostra Lista Telefonica\")\n",
    "    print(\"2. Acrescentar Entrada (Nome, Número)\")\n",
    "    print(\"3. Retirar Entrada (Nome)\")\n",
    "    print(\"4. Procurar Número\")\n",
    "    print(\"5. Mostra todos os nomes dos contatos\")\n",
    "    print(\"6. Atualizar contato\")\n",
    "    print(\"7. Terminar\")"
   ]
  }
 ],
 "metadata": {
  "kernelspec": {
   "display_name": "Python 3",
   "language": "python",
   "name": "python3"
  },
  "language_info": {
   "codemirror_mode": {
    "name": "ipython",
    "version": 3
   },
   "file_extension": ".py",
   "mimetype": "text/x-python",
   "name": "python",
   "nbconvert_exporter": "python",
   "pygments_lexer": "ipython3",
   "version": "3.8.3"
  }
 },
 "nbformat": 4,
 "nbformat_minor": 4
}
