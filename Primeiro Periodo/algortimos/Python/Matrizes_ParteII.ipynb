{
 "cells": [
  {
   "cell_type": "code",
   "execution_count": 18,
   "metadata": {},
   "outputs": [
    {
     "name": "stdout",
     "output_type": "stream",
     "text": [
      "São matrizes diferentes\n"
     ]
    }
   ],
   "source": [
    "# Igualdade de Matrizes\n",
    "\n",
    "A = [[1, 2, 3, 4],[5, 6, 7, 8],[9, 10, 11, 12]]\n",
    "\n",
    "#B = [[1, 2, 3, 4],[5, 6, 7, 8],[9, 10, 11, 12]]\n",
    "\n",
    "#B = [[1, 2, 3, 4],[5,6, 7, 8]]\n",
    "\n",
    "B = [[1, 2, 3, 4],[5, 6, 88, 8],[9, 10, 11, 12]]\n",
    "\n",
    "\n",
    "diferente = False\n",
    "\n",
    "if (len(A)!= len(B)) or (len(A[0]) != len(B[0])):\n",
    "    diferente = True\n",
    "else:\n",
    "    for i in range(len(A)):\n",
    "        for j in range(len(A[0])):\n",
    "            if A[i][j] != B[i][j]:\n",
    "                diferente = True\n",
    "                \n",
    "if diferente:\n",
    "    print(\"São matrizes diferentes\")\n",
    "else:\n",
    "    print(\"São matrizes iguais\")"
   ]
  },
  {
   "cell_type": "code",
   "execution_count": 22,
   "metadata": {},
   "outputs": [
    {
     "name": "stdout",
     "output_type": "stream",
     "text": [
      "A operação não pode ser realizada. Dimensões incompatíveis.\n"
     ]
    }
   ],
   "source": [
    "# Soma de matrizes\n",
    "\n",
    "A = [[1, 2, 3, 4],[5, 6, 7, 8],[9, 10, 11, 12]]\n",
    "\n",
    "#B = [[1, 2, 3, 4],[5, 6, 7, 8],[9, 10, 11, 12]]\n",
    "\n",
    "B = [[1, 2, 3, 4],[5,6, 7, 8]]\n",
    "\n",
    "\n",
    "\n",
    "if (len(A)!= len(B)) or (len(A[0]) != len(B[0])):\n",
    "    print(\"A operação não pode ser realizada. Dimensões incompatíveis.\")\n",
    "\n",
    "else:\n",
    "    #Inicializa a matriz C\n",
    "    C = []\n",
    "    for i in range(len(A)): \n",
    "        C.append([0]*len(A[0]))    \n",
    "    \n",
    "    for i in range(len(A)):\n",
    "        for j in range(len(A[0])):\n",
    "            C[i][j] = A[i][j] + B[i][j]\n",
    "    print(C)"
   ]
  },
  {
   "cell_type": "code",
   "execution_count": 27,
   "metadata": {},
   "outputs": [
    {
     "name": "stdout",
     "output_type": "stream",
     "text": [
      "Informe o valor do escalar: 2\n",
      "[[2, 4, 6, 8], [10, 12, 14, 16], [18, 20, 22, 24]]\n"
     ]
    }
   ],
   "source": [
    "# Multiplicação por escalar\n",
    "\n",
    "A = [[1, 2, 3, 4],[5, 6, 7, 8],[9, 10, 11, 12]]\n",
    "B = [[0, 0, 0, 0],[0, 0, 0, 0],[0, 0, 0, 0]]\n",
    "\n",
    "escalar = int(input(\"Informe o valor do escalar: \"))\n",
    "\n",
    "for i in range(len(A)):\n",
    "    for j in range(4):\n",
    "        B[i][j] = A[i][j] * escalar\n",
    "print(B)"
   ]
  },
  {
   "cell_type": "code",
   "execution_count": 31,
   "metadata": {},
   "outputs": [
    {
     "name": "stdout",
     "output_type": "stream",
     "text": [
      "A operação não pode ser realizada. Dimensões incompatíveis.\n"
     ]
    }
   ],
   "source": [
    "# Diferença de matrizes\n",
    "\n",
    "A = [[1, 2, 3, 4],[5, 6, 7, 8],[9, 10, 11, 12]]\n",
    "\n",
    "#B = [[1, 2, 3, 4],[5, 6, 7, 8],[9, 10, 11, 12]]\n",
    "\n",
    "B = [[1, 2, 3, 4],[5,6, 7, 8]]\n",
    "\n",
    "\n",
    "\n",
    "if (len(A)!= len(B)) or (len(A[0]) != len(B[0])):\n",
    "    print(\"A operação não pode ser realizada. Dimensões incompatíveis.\")\n",
    "\n",
    "else:\n",
    "    #Inicializa a matriz C\n",
    "    C = []\n",
    "    for i in range(len(A)): \n",
    "        C.append([0]*len(A[0]))    \n",
    "    \n",
    "    for i in range(len(A)):\n",
    "        for j in range(len(A[0])):\n",
    "            C[i][j] = A[i][j] + (-1) *B[i][j]\n",
    "    print(C)"
   ]
  },
  {
   "cell_type": "code",
   "execution_count": 1,
   "metadata": {},
   "outputs": [
    {
     "name": "stdout",
     "output_type": "stream",
     "text": [
      "[1, 3, 5]\n",
      "[2, 0, 7]\n",
      "[-5, -3, -6]\n"
     ]
    }
   ],
   "source": [
    "# Calcula a matriz transposta \n",
    "\n",
    "matrizA = [[1,2,-5],[3,0,-3],[5,7,-6]]\n",
    "\n",
    "# Cria a matriz transposta \n",
    "matrizTranspostaA = []\n",
    "for i in range(len(matrizA[0])): \n",
    "    matrizTranspostaA.append([0]*len(matrizA)) \n",
    "\n",
    "\n",
    "for i in range(len(matrizTranspostaA)):\n",
    "    for j in range(len(matrizTranspostaA[0])):\n",
    "        matrizTranspostaA[i][j] = matrizA[j][i]\n",
    "        \n",
    "for i in range(len(matrizTranspostaA)):\n",
    "    print(matrizTranspostaA[i])"
   ]
  },
  {
   "cell_type": "code",
   "execution_count": 3,
   "metadata": {},
   "outputs": [
    {
     "name": "stdout",
     "output_type": "stream",
     "text": [
      "[[6, -3, 11], [-1, -2, -1], [12, 0, 20]]\n"
     ]
    }
   ],
   "source": [
    "# Multiplicação de Matrizes\n",
    "\n",
    "matrizA = [[3,1],[2,-1],[0,4]]\n",
    "matrizB = [[1,-1,2],[3,0,5]]\n",
    "\n",
    "\n",
    "linhasA = len(matrizA)\n",
    "colunasA = len(matrizA[0]) \n",
    "linhasB = len(matrizB)\n",
    "colunasB = len(matrizB[0])\n",
    "\n",
    "# A quantidade de colunas de A deve ser igual a quantidade de linhas de B \n",
    "if colunasA != linhasB:\n",
    "    print(\"Não é possível realizar a operação de multiplicação\")\n",
    "\n",
    "else:\n",
    "    matrizAB = []\n",
    "    for i in range(linhasA):\n",
    "        matrizAB.append([])\n",
    "        for j in range(colunasB):\n",
    "            somatorio = 0\n",
    "            for k in range(linhasB):\n",
    "                    somatorio += matrizA[i][k]*matrizB[k][j]\n",
    "            matrizAB[i].append(somatorio)\n",
    "print(matrizAB)\n"
   ]
  },
  {
   "cell_type": "code",
   "execution_count": null,
   "metadata": {},
   "outputs": [],
   "source": []
  }
 ],
 "metadata": {
  "kernelspec": {
   "display_name": "Python 3",
   "language": "python",
   "name": "python3"
  },
  "language_info": {
   "codemirror_mode": {
    "name": "ipython",
    "version": 3
   },
   "file_extension": ".py",
   "mimetype": "text/x-python",
   "name": "python",
   "nbconvert_exporter": "python",
   "pygments_lexer": "ipython3",
   "version": "3.8.3"
  }
 },
 "nbformat": 4,
 "nbformat_minor": 4
}
