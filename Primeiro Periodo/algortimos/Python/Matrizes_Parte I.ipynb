{
 "cells": [
  {
   "cell_type": "code",
   "execution_count": null,
   "metadata": {},
   "outputs": [],
   "source": [
    "\n",
    "        |  1  2  3 |\n",
    "   A =  |  4  5  6 |                 =>    A = [[1,2,3],[4,5,6],[7,8,9]]\n",
    "        |  7  8  9 |\n",
    "                    3x3\n",
    "                    \n",
    "A_1x1 = 1   A_2x1 = 4   A_3x1 = 7           A[0][0] = 1   A[1][0] = 4   A[2][0] = 7\n",
    "A_1x2 = 2   A_2x2 = 5   A_3x2 = 8           A[0][1] = 2   A[1][1] = 5   A[2][1] = 8\n",
    "A_1x3 = 3   A_2x3 = 6   A_3x3 = 9           A[0][2] = 3   A[1][2] = 6   A[2][2] = 9\n",
    "           \n",
    "           \n"
   ]
  },
  {
   "cell_type": "code",
   "execution_count": 1,
   "metadata": {},
   "outputs": [
    {
     "name": "stdout",
     "output_type": "stream",
     "text": [
      "[[1, 2, 3], [4, 5, 6], [7, 8, 9]]\n"
     ]
    }
   ],
   "source": [
    "matriz = [[1,2,3],[4,5,6],[7,8,9]]\n",
    "print(matriz)\n"
   ]
  },
  {
   "cell_type": "code",
   "execution_count": 2,
   "metadata": {},
   "outputs": [
    {
     "name": "stdout",
     "output_type": "stream",
     "text": [
      "[1, 2, 3]\n",
      "[4, 5, 6]\n",
      "[7, 8, 9]\n"
     ]
    }
   ],
   "source": [
    "for i in range(len(matriz)):\n",
    "    print(matriz[i])"
   ]
  },
  {
   "cell_type": "code",
   "execution_count": 1,
   "metadata": {},
   "outputs": [
    {
     "name": "stdout",
     "output_type": "stream",
     "text": [
      "Lista:  [0, 0, 0]\n",
      "Lista1:  [0, 0, 0]\n",
      "[[0, 0, 0], [0, 0, 0], [0, 0, 0], [0, 0, 0]]\n"
     ]
    }
   ],
   "source": [
    "# Inicializar matriz com elementos zero\n",
    "\n",
    "\n",
    "#Inicializar lista vazia\n",
    "\n",
    "lista = []\n",
    "for i in range(3):\n",
    "    lista.append(0)\n",
    "\n",
    "print(\"Lista: \", lista)\n",
    "\n",
    "lista1 = [0] + [0] + [0] # ou [0]*3\n",
    "print(\"Lista1: \", lista1)\n",
    "\n",
    "\n",
    "# Inicializar matriz\n",
    "\n",
    "matriz = []\n",
    "for i in range(4): \n",
    "    matriz.append([0]*3) \n",
    "print(matriz)\n",
    "\n"
   ]
  },
  {
   "cell_type": "code",
   "execution_count": 6,
   "metadata": {},
   "outputs": [
    {
     "name": "stdout",
     "output_type": "stream",
     "text": [
      "Digite a dimensão n da matriz: 2\n",
      "Digite a dimensão m da matriz: 4\n",
      "[[0, 0, 0, 0], [0, 0, 0, 0]]\n"
     ]
    }
   ],
   "source": [
    "# Inicializar matriz com elementos zero e as dimensões informadas pelo usuário\n",
    "\n",
    "n = int(input('Digite a dimensão n da matriz: ')) \n",
    "m = int(input('Digite a dimensão m da matriz: ')) \n",
    "\n",
    "matriz = [] \n",
    "\n",
    "for i in range(n): \n",
    "    matriz.append([0]*m) \n",
    "print(matriz)"
   ]
  },
  {
   "cell_type": "code",
   "execution_count": 7,
   "metadata": {},
   "outputs": [
    {
     "name": "stdout",
     "output_type": "stream",
     "text": [
      "Informe o numero:1\n",
      "Informe o numero:2\n",
      "Informe o numero:3\n",
      "Informe o numero:4\n",
      "[[1, 2], [3, 4]]\n"
     ]
    }
   ],
   "source": [
    "# Exemplo 1: inicializar uma matriz com elementos informados pelo usuário\n",
    "\n",
    "\n",
    "matriz = [] \n",
    "for i in range(2): \n",
    "    linha = [] \n",
    "    for j in range(2): \n",
    "        linha.append(int(input('Informe o numero:'))) \n",
    "    matriz.append(linha)\n",
    "print(matriz)"
   ]
  },
  {
   "cell_type": "code",
   "execution_count": 8,
   "metadata": {},
   "outputs": [
    {
     "name": "stdout",
     "output_type": "stream",
     "text": [
      "Digite a nota [0,0]:1\n",
      "Digite a nota [0,1]:2\n",
      "Digite a nota [1,0]:3\n",
      "Digite a nota [1,1]:4\n",
      "[[1, 2], [3, 4]]\n"
     ]
    }
   ],
   "source": [
    "# Exemplo 2: inicializar matriz com elementos informados pelo usuário\n",
    "\n",
    "matriz = [] \n",
    "for i in range(2): \n",
    "    linha = [] \n",
    "    for j in range(2): \n",
    "        linha.append(int(input('Digite a nota [' + str(i) + ',' + str(j) + ']:'))) \n",
    "    matriz.append(linha)\n",
    "print(matriz)\n"
   ]
  },
  {
   "cell_type": "code",
   "execution_count": 10,
   "metadata": {},
   "outputs": [
    {
     "name": "stdout",
     "output_type": "stream",
     "text": [
      "Nome: kezia\n",
      "idade: 10\n",
      "Nome: maria\n",
      "idade: 12\n",
      "Nome: joao\n",
      "idade: 30\n",
      "[['kezia', 10], ['maria', 12], ['joao', 30]]\n"
     ]
    }
   ],
   "source": [
    "#Exemplo 3: inicializar matriz com elementos informados pelo usuário\n",
    "\n",
    "matriz = []\n",
    "\n",
    "for i in range(3):\n",
    "    linha = []\n",
    "    linha.append(input(\"Nome: \"))\n",
    "    linha.append(int(input(\"idade: \")))\n",
    "    matriz.append(linha)\n",
    "print(matriz)"
   ]
  },
  {
   "cell_type": "code",
   "execution_count": 11,
   "metadata": {},
   "outputs": [
    {
     "name": "stdout",
     "output_type": "stream",
     "text": [
      "6\n"
     ]
    }
   ],
   "source": [
    "# Conta a quantidade de números pares em uma matriz\n",
    "\n",
    "matriz = [[1, 2, 3, 4],[5, 6, 7, 8],[9, 10, 11, 12]] \n",
    "contPares = 0\n",
    "\n",
    "for i in range(len(matriz)):\n",
    "    for j in range(len(matriz[0])):\n",
    "        if matriz[i][j] % 2 == 0:\n",
    "            contPares+= 1\n",
    "\n",
    "print(contPares)"
   ]
  },
  {
   "cell_type": "code",
   "execution_count": 13,
   "metadata": {},
   "outputs": [
    {
     "name": "stdout",
     "output_type": "stream",
     "text": [
      "6.5\n"
     ]
    }
   ],
   "source": [
    "# Calcula a média aritmetica dos elementos de uma matriz\n",
    "matriz = [[1, 2, 3, 4],[5, 6, 7, 8],[9, 10, 11, 12]] \n",
    "soma = 0\n",
    "\n",
    "for i in range(len(matriz)):\n",
    "    for j in range(len(matriz[0])):\n",
    "        soma += matriz[i][j]\n",
    "\n",
    "quantElementos = len(matriz) * len(matriz[0])\n",
    "media = soma/quantElementos\n",
    "\n",
    "print(media)"
   ]
  },
  {
   "cell_type": "code",
   "execution_count": 14,
   "metadata": {},
   "outputs": [
    {
     "name": "stdout",
     "output_type": "stream",
     "text": [
      "6\n"
     ]
    }
   ],
   "source": [
    "# Informa a quantidade de numeros acima da média dos elementos\n",
    "\n",
    "cont = 0\n",
    "\n",
    "for i in range(len(matriz)):\n",
    "    for j in range(len(matriz[0])):\n",
    "        if matriz[i][j] > media:\n",
    "            cont+= 1\n",
    "\n",
    "print(cont)"
   ]
  },
  {
   "cell_type": "code",
   "execution_count": 15,
   "metadata": {},
   "outputs": [
    {
     "name": "stdout",
     "output_type": "stream",
     "text": [
      "Menor:  -9\n"
     ]
    }
   ],
   "source": [
    "# Menor elemento de uma matriz\n",
    "\n",
    "matriz = [[1,2],[1,-9]] \n",
    "menor = matriz[0][0]\n",
    "\n",
    "for i in range(len(matriz)):\n",
    "    for j in range(len(matriz[0])):\n",
    "        if matriz[i][j] < menor:\n",
    "            menor = matriz[i][j]\n",
    "\n",
    "print(\"Menor: \", menor)"
   ]
  },
  {
   "cell_type": "code",
   "execution_count": 3,
   "metadata": {},
   "outputs": [
    {
     "name": "stdout",
     "output_type": "stream",
     "text": [
      "Informe o valor: 66\n",
      "Não achei o elemento\n"
     ]
    }
   ],
   "source": [
    "# Verifica se um elemento pertence a uma matriz \n",
    "\n",
    "matriz = [[1, 2, 3, 4],[5, 6, 7, 8],[9, 10, 11, 12]] \n",
    "\n",
    "elementoAProcurar = int(input(\"Informe o valor: \"))\n",
    "\n",
    "\n",
    "achou = False\n",
    "i = 0\n",
    "\n",
    "while (not achou) and (i < len(matriz)):\n",
    "    if elementoAProcurar in matriz[i]:\n",
    "        print(\"Achei o elemento\")\n",
    "        achou = True\n",
    "    i+= 1\n",
    "\n",
    "if not achou:\n",
    "    print(\"Não achei o elemento\")"
   ]
  },
  {
   "cell_type": "code",
   "execution_count": null,
   "metadata": {},
   "outputs": [],
   "source": []
  }
 ],
 "metadata": {
  "kernelspec": {
   "display_name": "Python 3",
   "language": "python",
   "name": "python3"
  },
  "language_info": {
   "codemirror_mode": {
    "name": "ipython",
    "version": 3
   },
   "file_extension": ".py",
   "mimetype": "text/x-python",
   "name": "python",
   "nbconvert_exporter": "python",
   "pygments_lexer": "ipython3",
   "version": "3.8.3"
  }
 },
 "nbformat": 4,
 "nbformat_minor": 4
}
